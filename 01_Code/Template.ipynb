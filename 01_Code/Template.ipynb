{
 "cells": [
  {
   "cell_type": "markdown",
   "metadata": {},
   "source": [
    "# Resources\n",
    "\n",
    "\n",
    "\n",
    "\n",
    "### Python\n",
    "\n",
    "[Python 3 Documentation](https://docs.python.org/3/library/)\n",
    "\n",
    "\n",
    "### General\n",
    "\n",
    "[Stackoverflow](https://stackoverflow.com/)\n",
    "\n",
    "### YouTube vids\n",
    "\n",
    "[Kalle Hallden](https://www.youtube.com/channel/UCWr0mx597DnSGLFk1WfvSkQ)\n",
    "\n",
    "[PyCon 2019](https://www.youtube.com/channel/UCxs2IIVXaEHHA4BtTiWZ2mQ)\n",
    "\n",
    "[Tech With Tim](https://www.youtube.com/channel/UC4JX40jDee_tINbkjycV4Sg)\n",
    "\n",
    "[Python Programmer](https://www.youtube.com/user/consumerchampion)\n",
    "\n",
    "[sentdex](https://www.youtube.com/user/sentdex)\n",
    "\n",
    "### Markdown links\n",
    "[Markdown Cheatsheet](https://github.com/adam-p/markdown-here/wiki/Markdown-Cheatsheet)\n",
    "\n",
    "[Markdown Guide](https://www.markdownguide.org/)\n",
    "\n",
    "[Markdown Table Generator](https://www.tablesgenerator.com/markdown_tables)\n",
    "\n",
    "\n",
    "### Code\n",
    "\n",
    "\n",
    "```df.reset_index(self, level=None, drop=False, inplace=False, col_level=0, col_fill='')```\n",
    "\n",
    "```df = pd.DataFrame(np.random.randint(500,4000,size=(200, 1)), columns=list('A'))```\n",
    "\n",
    "```df['randNumCol'] = np.random.randint(1, 6, df.shape[0])```\n",
    "\n",
    "```\n",
    "# Declare a list that is to be converted into a column \n",
    "tradcounthvac = xyzhvac.x.count()\n",
    "tradehvac = tradcounthvac * ['hvac'] \n",
    "\n",
    "tradcountelec = xyzelec.x.count()\n",
    "tradeelec = tradcountelec * ['elec'] \n",
    "\n",
    "# Using 'Trade' as the column name \n",
    "# and equating it to the list \n",
    "xyzhvac['Trade'] = tradehvac\n",
    "xyzelec['Trade'] = tradeelec\n",
    "```\n",
    "\n",
    "\n",
    "\n",
    "### Packages\n",
    "\n",
    "\n",
    "```! pip install pandas-profiling```\n",
    "\n",
    "```! pip install plotly```\n",
    "\n",
    "```! pip install cufflinks```\n",
    "\n",
    "```! pip install plotly==4.2.1```\n",
    "\n",
    "```!pip install dovpanda```\n",
    "\n",
    "```import numpy as np```\n",
    "\n",
    "```import pandas as pd```\n",
    "\n",
    "```import pandas_profiling```\n",
    "\n",
    "```import plotly.graph_objects as go```\n",
    "\n",
    "```import dovpanda```\n",
    "\n",
    "### pandas\n",
    "[What can you do with the new ‘Pandas’?](https://towardsdatascience.com/what-can-you-do-with-the-new-pandas-2d24cf8d8b4b)\n",
    "\n",
    "[Reordering Pandas DataFrame Columns: Thumbs Down On Standard Solutions](https://towardsdatascience.com/reordering-pandas-dataframe-columns-thumbs-down-on-standard-solutions-1ff0bc2941d5)\n",
    "\n",
    "[pandas Documentation](https://pandas.pydata.org/pandas-docs/stable/)\n",
    "\n",
    "[7 practical pandas tips when you start working with the library](https://towardsdatascience.com/7-practical-pandas-tips-when-you-start-working-with-the-library-e4a9205eb443)\n",
    "\n",
    "[dataframe transpose](https://www.geeksforgeeks.org/python-pandas-dataframe-transpose/)\n",
    "\n",
    "[Combining DataFrames with Pandas](https://datacarpentry.org/python-ecology-lesson/05-merging-data/)\n",
    "\n",
    "[dovpanda](https://github.com/dovpanda-dev/dovpanda)\n",
    "\n",
    "\n",
    "[Selecting Subsets of Data in Pandas: Part 1](https://medium.com/dunder-data/selecting-subsets-of-data-in-pandas-6fcd0170be9c)\n",
    "\n",
    "```result = df.transpose() ```\n",
    "\n",
    "5 functions to examine your data: ```df.head()', df.describe(), df.info(), df.shape, df.sum(), df['Trade'].value_counts() ```\n",
    "\n",
    "Reports: ```pandas_profiling.ProfileReport(df)```\n",
    "\n",
    "Import: ```import pandas_profiling```\n",
    "\n",
    "Save a dataframe to a csv```df.to_csv```\n",
    "\n",
    "Create a Pandas Dataframe```df = pd.DataFrame(data) ```\n",
    "\n",
    "Read a csv file```pd.read_csv('')```\n",
    "\n",
    "Read a excel file```pd.read_excel('')```\n",
    "\n",
    "All rows that have a sepal length greater than 6 are dangerous ```df['is_dangerous'] = np.where(df['sepal length (cm)']>6, 'yes', 'no')```\n",
    "\n",
    "Max columns option ```pd.set_option('display.max_columns', 500)```\n",
    "\n",
    "Max row option ```pd.set_option('display.max_rows', 500)```\n",
    "\n",
    "to see columns ```df.columns```\n",
    "\n",
    "replace strings ```df.columns = df.columns.str.replace(' \\(cm\\)', '').str.replace(' ', '_')```\n",
    "\n",
    "### plotly\n",
    "\n",
    "[plotly Graphing Libraries](https://plot.ly/python/)\n",
    "\n",
    "[Different Colors for Bars in Barchart by their Value](https://community.plot.ly/t/different-colors-for-bars-in-barchart-by-their-value/6527)\n",
    "\n",
    "\n",
    "\n",
    "### Scikit-Learn\n",
    "\n",
    "[A beginner’s guide to Linear Regression in Python with Scikit-Learn](https://towardsdatascience.com/a-beginners-guide-to-linear-regression-in-python-with-scikit-learn-83a8f7ae2b4f)\n",
    "\n",
    "### Notes"
   ]
  },
  {
   "cell_type": "code",
   "execution_count": 2,
   "metadata": {},
   "outputs": [],
   "source": [
    "import numpy as np\n",
    "import pandas as pd\n",
    "import dovpanda\n",
    "import sklearn\n",
    "import matplotlib.pyplot as plt\n",
    "from pylab import rcParams\n",
    "from sklearn.linear_model import LinearRegression\n",
    "from sklearn.preprocessing import scale"
   ]
  },
  {
   "cell_type": "code",
   "execution_count": 3,
   "metadata": {},
   "outputs": [],
   "source": [
    "%matplotlib inline\n",
    "rcParams[\"figure.figsize\"] = 10,8\n",
    "    "
   ]
  },
  {
   "cell_type": "code",
   "execution_count": 5,
   "metadata": {},
   "outputs": [
    {
     "data": {
      "text/plain": [
       "array([[4.70343471],\n",
       "       [4.92815635],\n",
       "       [4.56294796],\n",
       "       [3.65382211],\n",
       "       [3.84667024],\n",
       "       [4.4116899 ],\n",
       "       [3.73731275],\n",
       "       [3.19111373],\n",
       "       [4.10059941]])"
      ]
     },
     "execution_count": 5,
     "metadata": {},
     "output_type": "execute_result"
    }
   ],
   "source": [
    "rooms = 2*np.random.rand(100, 1)+3\n",
    "rooms[1:10]"
   ]
  },
  {
   "cell_type": "code",
   "execution_count": 6,
   "metadata": {},
   "outputs": [
    {
     "data": {
      "text/plain": [
       "array([[295.13347897],\n",
       "       [294.90042776],\n",
       "       [292.84396297],\n",
       "       [287.17051698],\n",
       "       [288.43255412],\n",
       "       [291.58146507],\n",
       "       [289.49559065],\n",
       "       [284.6197115 ],\n",
       "       [290.33686775]])"
      ]
     },
     "execution_count": 6,
     "metadata": {},
     "output_type": "execute_result"
    }
   ],
   "source": [
    "price = 265 + 6*rooms +abs(np.random.randn(100, 1))\n",
    "price[1:10]"
   ]
  },
  {
   "cell_type": "code",
   "execution_count": 11,
   "metadata": {},
   "outputs": [
    {
     "data": {
      "image/png": "[encoded data removed]",
      "text/plain": [
       "<Figure size 720x576 with 1 Axes>"
      ]
     },
     "metadata": {
      "needs_background": "light"
     },
     "output_type": "display_data"
    }
   ],
   "source": [
    "plt.plot(rooms, price, 'b^')\n",
    "plt.xlabel(\"# of Rooms, 2019 Average\")\n",
    "plt.ylabel(\"2019 Average Home, 1000s USD\")\n",
    "plt.show()"
   ]
  },
  {
   "cell_type": "markdown",
   "metadata": {},
   "source": [
    "# Y= mx + b"
   ]
  },
  {
   "cell_type": "code",
   "execution_count": null,
   "metadata": {},
   "outputs": [],
   "source": []
  }
 ],
 "metadata": {
  "kernelspec": {
   "display_name": "Python 3",
   "language": "python",
   "name": "python3"
  },
  "language_info": {
   "codemirror_mode": {
    "name": "ipython",
    "version": 3
   },
   "file_extension": ".py",
   "mimetype": "text/x-python",
   "name": "python",
   "nbconvert_exporter": "python",
   "pygments_lexer": "ipython3",
   "version": "3.7.4"
  }
 },
 "nbformat": 4,
 "nbformat_minor": 2
}
